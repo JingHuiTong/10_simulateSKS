{
 "cells": [
  {
   "cell_type": "code",
   "execution_count": 1,
   "id": "57b42c22-2572-47c9-ae5c-6cde1bdb34d5",
   "metadata": {},
   "outputs": [],
   "source": [
    "import numpy as np\n",
    "from obspy.core import Stream\n",
    "from obspy import UTCDateTime\n",
    "from obspy.signal.rotate import rotate_ne_rt\n",
    "from telewavesim import utils as ut\n",
    "from telewavesim import wiggle as wg\n",
    "import os"
   ]
  },
  {
   "cell_type": "code",
   "execution_count": 2,
   "id": "9b939a12-7804-4313-9f9d-f4a56b466415",
   "metadata": {},
   "outputs": [],
   "source": [
    "modfile = './model/01_model.txt'\n",
    "wvtype = 'SV'"
   ]
  },
  {
   "cell_type": "code",
   "execution_count": 3,
   "id": "020def9e-a964-47a6-9aa3-08870081508b",
   "metadata": {},
   "outputs": [],
   "source": [
    "npts = 3600 # Number of samples\n",
    "dt = 0.05   # Sample distance in seconds"
   ]
  },
  {
   "cell_type": "code",
   "execution_count": 8,
   "id": "b2c80730-5100-4465-91a4-3d7d63146e49",
   "metadata": {},
   "outputs": [],
   "source": [
    "slow = 0.04 # Horizontal slowness (or ray parameter) in s/km \n",
    "baz = [60,70,80,90,250,260,270,280]"
   ]
  },
  {
   "cell_type": "code",
   "execution_count": 9,
   "id": "d9f81bd4-7505-44bd-99bb-4945de0717ec",
   "metadata": {},
   "outputs": [],
   "source": [
    "model = ut.read_model(modfile)"
   ]
  },
  {
   "cell_type": "code",
   "execution_count": 10,
   "id": "1713b41b-8be2-4b3d-9b5a-ade6fadd37ea",
   "metadata": {},
   "outputs": [
    {
     "name": "stdout",
     "output_type": "stream",
     "text": [
      "Predicted propagation time from model: 36.8 sec\n"
     ]
    }
   ],
   "source": [
    "t1 = ut.calc_ttime(model, slow, wvtype=wvtype)\n",
    "print('Predicted propagation time from model: {0:4.1f} sec'.format(t1))"
   ]
  },
  {
   "cell_type": "code",
   "execution_count": 11,
   "id": "1a43ae4e-4a90-4367-99c7-742c9c9c2522",
   "metadata": {},
   "outputs": [],
   "source": [
    "trR = Stream(); trT = Stream()"
   ]
  },
  {
   "cell_type": "code",
   "execution_count": 12,
   "id": "3c85bd37-830d-482d-b578-6840e9d6dc8a",
   "metadata": {},
   "outputs": [
    {
     "name": "stderr",
     "output_type": "stream",
     "text": [
      "/Users/tong/opt/anaconda3/envs/tws/lib/python3.7/site-packages/obspy/io/mseed/core.py:715: UserWarning: Detected non contiguous data array in Stream[0].data. Trying to fix array.\n",
      "  warnings.warn(msg)\n"
     ]
    }
   ],
   "source": [
    "nowtime = UTCDateTime()+8*3600\n",
    "timedir = f'{nowtime.year}{str(nowtime.month).zfill(2)}{str(nowtime.day).zfill(2)}_{str(nowtime.hour).zfill(2)}{str(nowtime.minute).zfill(2)}{str(nowtime.second).zfill(2)}'\n",
    "# Loop over range of data \n",
    "for bb in baz:\n",
    "    # Calculate the plane wave seismograms\n",
    "    trxyz = ut.run_plane(model, slow, npts, dt, bb, wvtype=wvtype)\n",
    "    # Creat dir to save trace \n",
    "    TraceDir = f'Model_mseed/{timedir}/Baz_{int(bb)}'\n",
    "    os.makedirs(TraceDir)\n",
    "    # Extract East, North and Vertical\n",
    "    ntr = trxyz[0]\n",
    "    etr = trxyz[1]\n",
    "    ztr = trxyz[2]\n",
    "    ntr.write(f'{TraceDir}/XX.MOD..HHN.mseed', format=\"MSEED\")\n",
    "    etr.write(f'{TraceDir}/XX.MOD..HHE.mseed', format=\"MSEED\")\n",
    "    ztr.write(f'{TraceDir}/XX.MOD..HHZ.mseed', format=\"MSEED\")\n",
    "    # Copy to radial and transverse\n",
    "    rtr = ntr.copy()\n",
    "    ttr = etr.copy()\n",
    "\n",
    "    # Rotate to radial and transverse\n",
    "    rtr.data, ttr.data = rotate_ne_rt(ntr.data, etr.data, bb)\n",
    "\n",
    "    # Append to streams\n",
    "    trR.append(rtr)\n",
    "    trT.append(ttr)"
   ]
  },
  {
   "cell_type": "code",
   "execution_count": 13,
   "id": "14d06c2a-a699-40ae-881d-a1cb04565276",
   "metadata": {},
   "outputs": [
    {
     "data": {
      "text/plain": [
       "8 Trace(s) in Stream:\n",
       "XX.MOD..HHE | 2022-03-01T09:49:46.557786Z - 2022-03-01T09:52:46.507786Z | 20.0 Hz, 3600 samples\n",
       "XX.MOD..HHE | 2022-03-01T09:49:47.216951Z - 2022-03-01T09:52:47.166951Z | 20.0 Hz, 3600 samples\n",
       "XX.MOD..HHE | 2022-03-01T09:49:47.454974Z - 2022-03-01T09:52:47.404974Z | 20.0 Hz, 3600 samples\n",
       "XX.MOD..HHE | 2022-03-01T09:49:47.725036Z - 2022-03-01T09:52:47.675036Z | 20.0 Hz, 3600 samples\n",
       "XX.MOD..HHE | 2022-03-01T09:49:47.939339Z - 2022-03-01T09:52:47.889339Z | 20.0 Hz, 3600 samples\n",
       "XX.MOD..HHE | 2022-03-01T09:49:48.038853Z - 2022-03-01T09:52:47.988853Z | 20.0 Hz, 3600 samples\n",
       "XX.MOD..HHE | 2022-03-01T09:49:48.143489Z - 2022-03-01T09:52:48.093489Z | 20.0 Hz, 3600 samples\n",
       "XX.MOD..HHE | 2022-03-01T09:49:48.182945Z - 2022-03-01T09:52:48.132945Z | 20.0 Hz, 3600 samples"
      ]
     },
     "execution_count": 13,
     "metadata": {},
     "output_type": "execute_result"
    }
   ],
   "source": [
    "# Set frequency corners in Hz\n",
    "f1 = 0.05\n",
    "f2 = 0.125\n",
    "\n",
    "# Filter to get wave-like traces\n",
    "trR.filter('bandpass',freqmin=f1, freqmax=f2, corners=2, zerophase=True)\n",
    "trT.filter('bandpass',freqmin=f1, freqmax=f2, corners=2, zerophase=True)"
   ]
  },
  {
   "cell_type": "code",
   "execution_count": 16,
   "id": "a2b12373-81c6-40cb-935e-e8608c11a810",
   "metadata": {},
   "outputs": [
    {
     "name": "stdout",
     "output_type": "stream",
     "text": [
      "\n",
      "Plotting Wiggles by baz\n"
     ]
    },
    {
     "data": {
      "text/plain": [
       "0"
      ]
     },
     "execution_count": 16,
     "metadata": {},
     "output_type": "execute_result"
    },
    {
     "data": {
      "image/png": "[encoded data removed]",
      "text/plain": [
       "<Figure size 432x288 with 2 Axes>"
      ]
     },
     "metadata": {
      "needs_background": "light"
     },
     "output_type": "display_data"
    }
   ],
   "source": [
    "# Plot as wiggles\n",
    "wg.pw_wiggles_baz(trR, trT, 'test', btyp='baz', scale=0.05,\n",
    "                  t1=t1, tmin=0., tmax=60, save=True,\n",
    "                  ftitle='sks', wvtype='SV')\n",
    "cmd = '''mv sks.png Model_mseed/%(timedir)s''' % locals()\n",
    "os.system(cmd)"
   ]
  },
  {
   "cell_type": "code",
   "execution_count": null,
   "id": "09c551d9",
   "metadata": {},
   "outputs": [],
   "source": []
  }
 ],
 "metadata": {
  "kernelspec": {
   "display_name": "Python 3 (ipykernel)",
   "language": "python",
   "name": "python3"
  },
  "language_info": {
   "codemirror_mode": {
    "name": "ipython",
    "version": 3
   },
   "file_extension": ".py",
   "mimetype": "text/x-python",
   "name": "python",
   "nbconvert_exporter": "python",
   "pygments_lexer": "ipython3",
   "version": "3.7.12"
  }
 },
 "nbformat": 4,
 "nbformat_minor": 5
}
