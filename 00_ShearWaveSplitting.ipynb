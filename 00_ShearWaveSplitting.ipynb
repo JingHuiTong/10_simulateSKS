{
 "cells": [
  {
   "cell_type": "code",
   "execution_count": 18,
   "metadata": {},
   "outputs": [],
   "source": [
    "from pathlib import Path\n",
    "from splitpy import arguments, utils\n",
    "from splitpy import Split, DiagPlot, PygmtPlot\n",
    "import matplotlib.pyplot as plt\n",
    "import numpy as np\n",
    "import pickle\n",
    "import stdb\n",
    "from obspy.clients.fdsn import Client\n",
    "from obspy import UTCDateTime\n",
    "import matplotlib\n",
    "import os, glob\n",
    "matplotlib.use('Qt5Agg')"
   ]
  },
  {
   "cell_type": "code",
   "execution_count": 38,
   "metadata": {},
   "outputs": [],
   "source": [
    "datapath = 'DATA_SKS_Model'\n",
    "time = '20220225_105927'\n",
    "datadir = f'{datapath}/{time}'"
   ]
  },
  {
   "cell_type": "code",
   "execution_count": 51,
   "metadata": {},
   "outputs": [],
   "source": [
    "def Meta(time,baz):\n",
    "    split.meta.time = UTCDateTime(time)\n",
    "    split.meta.baz = baz\n",
    "    split.meta.lon = 0\n",
    "    split.meta.lat = 0\n",
    "    split.meta.dep = 100\n",
    "    split.meta.mag = 7.0\n",
    "    split.meta.epi_dist = 120*111\n",
    "    split.meta.gac = 120\n",
    "    split.meta.az = 360-baz\n",
    "    split.meta.ttime = UTCDateTime(time)+20\n",
    "    split.meta.slow = 0.04\n",
    "    split.meta.inc = 0\n",
    "    split.meta.phase = 'SKS'\n",
    "    split.meta.accept = True\n",
    "    split.meta.snrq = 10\n",
    "    split.meta.snrt = 5\n",
    "    split.meta.threSNRQ = 10\n",
    "    split.meta.maxdt = 4.0\n",
    "    split.meta.ddt = 0.1\n",
    "    split.meta.dphi = 1\n",
    "    split.meta.align = 'LQT'\n",
    "    split.meta.rotated = False\n",
    "    split.meta.CpH = None"
   ]
  },
  {
   "cell_type": "code",
   "execution_count": 52,
   "metadata": {},
   "outputs": [
    {
     "ename": "AttributeError",
     "evalue": "'NoneType' object has no attribute 'time'",
     "output_type": "error",
     "traceback": [
      "\u001b[0;31m---------------------------------------------------------------------------\u001b[0m",
      "\u001b[0;31mAttributeError\u001b[0m                            Traceback (most recent call last)",
      "\u001b[0;32m/var/folders/sp/pnngww1n0q31w2plgbk53rc00000gn/T/ipykernel_6562/4281161043.py\u001b[0m in \u001b[0;36m<module>\u001b[0;34m\u001b[0m\n\u001b[1;32m      9\u001b[0m           \u001b[0mos\u001b[0m\u001b[0;34m.\u001b[0m\u001b[0mmakedirs\u001b[0m\u001b[0;34m(\u001b[0m\u001b[0mdatadir_baz\u001b[0m\u001b[0;34m)\u001b[0m\u001b[0;34m\u001b[0m\u001b[0;34m\u001b[0m\u001b[0m\n\u001b[1;32m     10\u001b[0m     \u001b[0msplit\u001b[0m \u001b[0;34m=\u001b[0m \u001b[0mSplit\u001b[0m\u001b[0;34m(\u001b[0m\u001b[0msta\u001b[0m\u001b[0;34m)\u001b[0m\u001b[0;34m\u001b[0m\u001b[0;34m\u001b[0m\u001b[0m\n\u001b[0;32m---> 11\u001b[0;31m     \u001b[0mMeta\u001b[0m\u001b[0;34m(\u001b[0m\u001b[0mtime\u001b[0m\u001b[0;34m,\u001b[0m\u001b[0mbaz\u001b[0m\u001b[0;34m)\u001b[0m\u001b[0;34m\u001b[0m\u001b[0;34m\u001b[0m\u001b[0m\n\u001b[0m\u001b[1;32m     12\u001b[0m \u001b[0;34m\u001b[0m\u001b[0m\n\u001b[1;32m     13\u001b[0m     \u001b[0mZNEfile\u001b[0m \u001b[0;34m=\u001b[0m \u001b[0mdatadir_baz\u001b[0m \u001b[0;34m/\u001b[0m \u001b[0;34m'ZNE_data.pkl'\u001b[0m\u001b[0;34m\u001b[0m\u001b[0;34m\u001b[0m\u001b[0m\n",
      "\u001b[0;32m/var/folders/sp/pnngww1n0q31w2plgbk53rc00000gn/T/ipykernel_6562/2607733756.py\u001b[0m in \u001b[0;36mMeta\u001b[0;34m(time, baz)\u001b[0m\n\u001b[1;32m      1\u001b[0m \u001b[0;32mdef\u001b[0m \u001b[0mMeta\u001b[0m\u001b[0;34m(\u001b[0m\u001b[0mtime\u001b[0m\u001b[0;34m,\u001b[0m\u001b[0mbaz\u001b[0m\u001b[0;34m)\u001b[0m\u001b[0;34m:\u001b[0m\u001b[0;34m\u001b[0m\u001b[0;34m\u001b[0m\u001b[0m\n\u001b[0;32m----> 2\u001b[0;31m     \u001b[0msplit\u001b[0m\u001b[0;34m.\u001b[0m\u001b[0mmeta\u001b[0m\u001b[0;34m.\u001b[0m\u001b[0mtime\u001b[0m \u001b[0;34m=\u001b[0m \u001b[0mUTCDateTime\u001b[0m\u001b[0;34m(\u001b[0m\u001b[0mtime\u001b[0m\u001b[0;34m)\u001b[0m\u001b[0;34m\u001b[0m\u001b[0;34m\u001b[0m\u001b[0m\n\u001b[0m\u001b[1;32m      3\u001b[0m     \u001b[0msplit\u001b[0m\u001b[0;34m.\u001b[0m\u001b[0mmeta\u001b[0m\u001b[0;34m.\u001b[0m\u001b[0mbaz\u001b[0m \u001b[0;34m=\u001b[0m \u001b[0mbaz\u001b[0m\u001b[0;34m\u001b[0m\u001b[0;34m\u001b[0m\u001b[0m\n\u001b[1;32m      4\u001b[0m     \u001b[0msplit\u001b[0m\u001b[0;34m.\u001b[0m\u001b[0mmeta\u001b[0m\u001b[0;34m.\u001b[0m\u001b[0mlon\u001b[0m \u001b[0;34m=\u001b[0m \u001b[0;36m0\u001b[0m\u001b[0;34m\u001b[0m\u001b[0;34m\u001b[0m\u001b[0m\n\u001b[1;32m      5\u001b[0m     \u001b[0msplit\u001b[0m\u001b[0;34m.\u001b[0m\u001b[0mmeta\u001b[0m\u001b[0;34m.\u001b[0m\u001b[0mlat\u001b[0m \u001b[0;34m=\u001b[0m \u001b[0;36m0\u001b[0m\u001b[0;34m\u001b[0m\u001b[0;34m\u001b[0m\u001b[0m\n",
      "\u001b[0;31mAttributeError\u001b[0m: 'NoneType' object has no attribute 'time'"
     ]
    }
   ],
   "source": [
    "db = stdb.io.load_db(fname='XX_MOD.pkl')\n",
    "stkey = 'XX.MOD'\n",
    "sta = db[stkey]\n",
    "split = Split(sta)\n",
    "for BAZdir in glob.glob(f'Model_mseed/{time}/Baz_0'):\n",
    "    baz=BAZdir.rsplit('_')[-1]\n",
    "    datadir_baz = f'{datadir}/baz_{baz}'\n",
    "    if not os.path.isdir(datadir_baz):\n",
    "          os.makedirs(datadir_baz)\n",
    "    split = Split(sta)\n",
    "    Meta(time,baz)\n",
    "\n",
    "    ZNEfile = datadir_baz / 'ZNE_data.pkl'\n",
    "    LQTfile = datadir_baz / 'LQT_data.pkl'\n",
    "    metafile = datadir_baz / 'Meta_data.pkl'\n",
    "    splitfile = datadir_baz / 'Split_results_auto.pkl'\n",
    "    RCfile = datadir_baz / 'RC_res.pkl'\n",
    "    SCfile = datadir_baz / 'SC_res.pkl'\n",
    "\n"
   ]
  },
  {
   "cell_type": "code",
   "execution_count": 53,
   "metadata": {},
   "outputs": [
    {
     "ename": "AttributeError",
     "evalue": "'NoneType' object has no attribute 'time'",
     "output_type": "error",
     "traceback": [
      "\u001b[0;31m---------------------------------------------------------------------------\u001b[0m",
      "\u001b[0;31mAttributeError\u001b[0m                            Traceback (most recent call last)",
      "\u001b[0;32m/var/folders/sp/pnngww1n0q31w2plgbk53rc00000gn/T/ipykernel_6562/1639398006.py\u001b[0m in \u001b[0;36m<module>\u001b[0;34m\u001b[0m\n\u001b[0;32m----> 1\u001b[0;31m \u001b[0msplit\u001b[0m\u001b[0;34m.\u001b[0m\u001b[0mmeta\u001b[0m\u001b[0;34m.\u001b[0m\u001b[0mtime\u001b[0m \u001b[0;34m=\u001b[0m \u001b[0;34m'2022-02-25T10:59:27.000000Z'\u001b[0m\u001b[0;34m\u001b[0m\u001b[0;34m\u001b[0m\u001b[0m\n\u001b[0m",
      "\u001b[0;31mAttributeError\u001b[0m: 'NoneType' object has no attribute 'time'"
     ]
    }
   ],
   "source": [
    "split.meta.time = '2022-02-25T10:59:27.000000Z'"
   ]
  },
  {
   "cell_type": "code",
   "execution_count": 47,
   "metadata": {},
   "outputs": [
    {
     "data": {
      "text/plain": [
       "2022-02-25T10:59:27.000000Z"
      ]
     },
     "execution_count": 47,
     "metadata": {},
     "output_type": "execute_result"
    }
   ],
   "source": [
    "UTCDateTime(time)"
   ]
  },
  {
   "cell_type": "code",
   "execution_count": 48,
   "metadata": {},
   "outputs": [
    {
     "ename": "NameError",
     "evalue": "name 'main' is not defined",
     "output_type": "error",
     "traceback": [
      "\u001b[0;31m---------------------------------------------------------------------------\u001b[0m",
      "\u001b[0;31mNameError\u001b[0m                                 Traceback (most recent call last)",
      "\u001b[0;32m/var/folders/sp/pnngww1n0q31w2plgbk53rc00000gn/T/ipykernel_6562/3832242952.py\u001b[0m in \u001b[0;36m<module>\u001b[0;34m\u001b[0m\n\u001b[1;32m      1\u001b[0m \u001b[0;32mif\u001b[0m \u001b[0m__name__\u001b[0m \u001b[0;34m==\u001b[0m \u001b[0;34m\"__main__\"\u001b[0m\u001b[0;34m:\u001b[0m\u001b[0;34m\u001b[0m\u001b[0;34m\u001b[0m\u001b[0m\n\u001b[0;32m----> 2\u001b[0;31m     \u001b[0mmain\u001b[0m\u001b[0;34m(\u001b[0m\u001b[0;34m)\u001b[0m\u001b[0;34m\u001b[0m\u001b[0;34m\u001b[0m\u001b[0m\n\u001b[0m",
      "\u001b[0;31mNameError\u001b[0m: name 'main' is not defined"
     ]
    }
   ],
   "source": []
  },
  {
   "cell_type": "code",
   "execution_count": null,
   "metadata": {},
   "outputs": [],
   "source": []
  }
 ],
 "metadata": {
  "interpreter": {
   "hash": "34c7fae736fe20b15c24d2eb785ff40b610e0707db5318a1e0b0a0a10fe7a5c5"
  },
  "kernelspec": {
   "display_name": "Python 3.9.6 ('split')",
   "language": "python",
   "name": "python3"
  },
  "language_info": {
   "codemirror_mode": {
    "name": "ipython",
    "version": 3
   },
   "file_extension": ".py",
   "mimetype": "text/x-python",
   "name": "python",
   "nbconvert_exporter": "python",
   "pygments_lexer": "ipython3",
   "version": "3.9.6"
  },
  "orig_nbformat": 4
 },
 "nbformat": 4,
 "nbformat_minor": 2
}
